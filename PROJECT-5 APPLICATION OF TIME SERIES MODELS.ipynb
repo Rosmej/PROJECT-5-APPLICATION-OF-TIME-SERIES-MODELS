{
 "cells": [
  {
   "cell_type": "code",
   "execution_count": 1,
   "metadata": {},
   "outputs": [],
   "source": [
    "import pandas as pd\n",
    "import numpy as np\n",
    "import matplotlib.pyplot as plt\n",
    "from pandas.plotting import autocorrelation_plot\n",
    "from statsmodels.graphics.tsaplots import plot_pacf\n",
    "from statsmodels.tsa.arima_model import ARIMA, ARMAResults\n",
    "import datetime\n",
    "import sys\n",
    "import seaborn as sns\n",
    "import statsmodels\n",
    "import statsmodels.stats.diagnostic as diag\n",
    "from statsmodels.tsa.stattools import adfuller\n",
    "from scipy.stats.mstats import normaltest\n",
    "from matplotlib.pyplot import acorr"
   ]
  },
  {
   "cell_type": "code",
   "execution_count": 2,
   "metadata": {},
   "outputs": [
    {
     "data": {
      "text/html": [
       "<div>\n",
       "<style scoped>\n",
       "    .dataframe tbody tr th:only-of-type {\n",
       "        vertical-align: middle;\n",
       "    }\n",
       "\n",
       "    .dataframe tbody tr th {\n",
       "        vertical-align: top;\n",
       "    }\n",
       "\n",
       "    .dataframe thead th {\n",
       "        text-align: right;\n",
       "    }\n",
       "</style>\n",
       "<table border=\"1\" class=\"dataframe\">\n",
       "  <thead>\n",
       "    <tr style=\"text-align: right;\">\n",
       "      <th></th>\n",
       "      <th>DATE</th>\n",
       "      <th>SP500</th>\n",
       "      <th>NASDAQ.AAL</th>\n",
       "      <th>NASDAQ.AAPL</th>\n",
       "      <th>NASDAQ.ADBE</th>\n",
       "      <th>NASDAQ.ADI</th>\n",
       "      <th>NASDAQ.ADP</th>\n",
       "      <th>NASDAQ.ADSK</th>\n",
       "      <th>NASDAQ.AKAM</th>\n",
       "      <th>NASDAQ.ALXN</th>\n",
       "      <th>...</th>\n",
       "      <th>NYSE.WYN</th>\n",
       "      <th>NYSE.XEC</th>\n",
       "      <th>NYSE.XEL</th>\n",
       "      <th>NYSE.XL</th>\n",
       "      <th>NYSE.XOM</th>\n",
       "      <th>NYSE.XRX</th>\n",
       "      <th>NYSE.XYL</th>\n",
       "      <th>NYSE.YUM</th>\n",
       "      <th>NYSE.ZBH</th>\n",
       "      <th>NYSE.ZTS</th>\n",
       "    </tr>\n",
       "  </thead>\n",
       "  <tbody>\n",
       "    <tr>\n",
       "      <td>0</td>\n",
       "      <td>1491226200</td>\n",
       "      <td>2363.6101</td>\n",
       "      <td>42.3300</td>\n",
       "      <td>143.6800</td>\n",
       "      <td>129.6300</td>\n",
       "      <td>82.040</td>\n",
       "      <td>102.2300</td>\n",
       "      <td>85.2200</td>\n",
       "      <td>59.760</td>\n",
       "      <td>121.52</td>\n",
       "      <td>...</td>\n",
       "      <td>84.370</td>\n",
       "      <td>119.035</td>\n",
       "      <td>44.40</td>\n",
       "      <td>39.88</td>\n",
       "      <td>82.03</td>\n",
       "      <td>7.36</td>\n",
       "      <td>50.22</td>\n",
       "      <td>63.86</td>\n",
       "      <td>122.000</td>\n",
       "      <td>53.350</td>\n",
       "    </tr>\n",
       "    <tr>\n",
       "      <td>1</td>\n",
       "      <td>1491226260</td>\n",
       "      <td>2364.1001</td>\n",
       "      <td>42.3600</td>\n",
       "      <td>143.7000</td>\n",
       "      <td>130.3200</td>\n",
       "      <td>82.080</td>\n",
       "      <td>102.1400</td>\n",
       "      <td>85.6500</td>\n",
       "      <td>59.840</td>\n",
       "      <td>121.48</td>\n",
       "      <td>...</td>\n",
       "      <td>84.370</td>\n",
       "      <td>119.035</td>\n",
       "      <td>44.11</td>\n",
       "      <td>39.88</td>\n",
       "      <td>82.03</td>\n",
       "      <td>7.38</td>\n",
       "      <td>50.22</td>\n",
       "      <td>63.74</td>\n",
       "      <td>121.770</td>\n",
       "      <td>53.350</td>\n",
       "    </tr>\n",
       "    <tr>\n",
       "      <td>2</td>\n",
       "      <td>1491226320</td>\n",
       "      <td>2362.6799</td>\n",
       "      <td>42.3100</td>\n",
       "      <td>143.6901</td>\n",
       "      <td>130.2250</td>\n",
       "      <td>82.030</td>\n",
       "      <td>102.2125</td>\n",
       "      <td>85.5100</td>\n",
       "      <td>59.795</td>\n",
       "      <td>121.93</td>\n",
       "      <td>...</td>\n",
       "      <td>84.585</td>\n",
       "      <td>119.260</td>\n",
       "      <td>44.09</td>\n",
       "      <td>39.98</td>\n",
       "      <td>82.02</td>\n",
       "      <td>7.36</td>\n",
       "      <td>50.12</td>\n",
       "      <td>63.75</td>\n",
       "      <td>121.700</td>\n",
       "      <td>53.365</td>\n",
       "    </tr>\n",
       "    <tr>\n",
       "      <td>3</td>\n",
       "      <td>1491226380</td>\n",
       "      <td>2364.3101</td>\n",
       "      <td>42.3700</td>\n",
       "      <td>143.6400</td>\n",
       "      <td>130.0729</td>\n",
       "      <td>82.000</td>\n",
       "      <td>102.1400</td>\n",
       "      <td>85.4872</td>\n",
       "      <td>59.620</td>\n",
       "      <td>121.44</td>\n",
       "      <td>...</td>\n",
       "      <td>84.460</td>\n",
       "      <td>119.260</td>\n",
       "      <td>44.25</td>\n",
       "      <td>39.99</td>\n",
       "      <td>82.02</td>\n",
       "      <td>7.35</td>\n",
       "      <td>50.16</td>\n",
       "      <td>63.88</td>\n",
       "      <td>121.700</td>\n",
       "      <td>53.380</td>\n",
       "    </tr>\n",
       "    <tr>\n",
       "      <td>4</td>\n",
       "      <td>1491226440</td>\n",
       "      <td>2364.8501</td>\n",
       "      <td>42.5378</td>\n",
       "      <td>143.6600</td>\n",
       "      <td>129.8800</td>\n",
       "      <td>82.035</td>\n",
       "      <td>102.0600</td>\n",
       "      <td>85.7001</td>\n",
       "      <td>59.620</td>\n",
       "      <td>121.60</td>\n",
       "      <td>...</td>\n",
       "      <td>84.470</td>\n",
       "      <td>119.610</td>\n",
       "      <td>44.11</td>\n",
       "      <td>39.96</td>\n",
       "      <td>82.03</td>\n",
       "      <td>7.36</td>\n",
       "      <td>50.20</td>\n",
       "      <td>63.91</td>\n",
       "      <td>121.695</td>\n",
       "      <td>53.240</td>\n",
       "    </tr>\n",
       "  </tbody>\n",
       "</table>\n",
       "<p>5 rows × 502 columns</p>\n",
       "</div>"
      ],
      "text/plain": [
       "         DATE      SP500  NASDAQ.AAL  NASDAQ.AAPL  NASDAQ.ADBE  NASDAQ.ADI  \\\n",
       "0  1491226200  2363.6101     42.3300     143.6800     129.6300      82.040   \n",
       "1  1491226260  2364.1001     42.3600     143.7000     130.3200      82.080   \n",
       "2  1491226320  2362.6799     42.3100     143.6901     130.2250      82.030   \n",
       "3  1491226380  2364.3101     42.3700     143.6400     130.0729      82.000   \n",
       "4  1491226440  2364.8501     42.5378     143.6600     129.8800      82.035   \n",
       "\n",
       "   NASDAQ.ADP  NASDAQ.ADSK  NASDAQ.AKAM  NASDAQ.ALXN  ...  NYSE.WYN  NYSE.XEC  \\\n",
       "0    102.2300      85.2200       59.760       121.52  ...    84.370   119.035   \n",
       "1    102.1400      85.6500       59.840       121.48  ...    84.370   119.035   \n",
       "2    102.2125      85.5100       59.795       121.93  ...    84.585   119.260   \n",
       "3    102.1400      85.4872       59.620       121.44  ...    84.460   119.260   \n",
       "4    102.0600      85.7001       59.620       121.60  ...    84.470   119.610   \n",
       "\n",
       "   NYSE.XEL  NYSE.XL  NYSE.XOM  NYSE.XRX  NYSE.XYL  NYSE.YUM  NYSE.ZBH  \\\n",
       "0     44.40    39.88     82.03      7.36     50.22     63.86   122.000   \n",
       "1     44.11    39.88     82.03      7.38     50.22     63.74   121.770   \n",
       "2     44.09    39.98     82.02      7.36     50.12     63.75   121.700   \n",
       "3     44.25    39.99     82.02      7.35     50.16     63.88   121.700   \n",
       "4     44.11    39.96     82.03      7.36     50.20     63.91   121.695   \n",
       "\n",
       "   NYSE.ZTS  \n",
       "0    53.350  \n",
       "1    53.350  \n",
       "2    53.365  \n",
       "3    53.380  \n",
       "4    53.240  \n",
       "\n",
       "[5 rows x 502 columns]"
      ]
     },
     "execution_count": 2,
     "metadata": {},
     "output_type": "execute_result"
    }
   ],
   "source": [
    "plt.style.use('fivethirtyeight')\n",
    "%matplotlib inline\n",
    "df = pd.read_csv('/Users/rosmebabyjoseph/Library/Jupyter/data_stocks.csv')\n",
    "df.head()"
   ]
  },
  {
   "cell_type": "code",
   "execution_count": 3,
   "metadata": {},
   "outputs": [],
   "source": [
    "df.index=df['DATE']"
   ]
  },
  {
   "cell_type": "code",
   "execution_count": 4,
   "metadata": {},
   "outputs": [
    {
     "data": {
      "text/html": [
       "<div>\n",
       "<style scoped>\n",
       "    .dataframe tbody tr th:only-of-type {\n",
       "        vertical-align: middle;\n",
       "    }\n",
       "\n",
       "    .dataframe tbody tr th {\n",
       "        vertical-align: top;\n",
       "    }\n",
       "\n",
       "    .dataframe thead th {\n",
       "        text-align: right;\n",
       "    }\n",
       "</style>\n",
       "<table border=\"1\" class=\"dataframe\">\n",
       "  <thead>\n",
       "    <tr style=\"text-align: right;\">\n",
       "      <th></th>\n",
       "      <th>DATE</th>\n",
       "      <th>SP500</th>\n",
       "      <th>NASDAQ.AAL</th>\n",
       "      <th>NASDAQ.AAPL</th>\n",
       "      <th>NASDAQ.ADBE</th>\n",
       "      <th>NASDAQ.ADI</th>\n",
       "      <th>NASDAQ.ADP</th>\n",
       "      <th>NASDAQ.ADSK</th>\n",
       "      <th>NASDAQ.AKAM</th>\n",
       "      <th>NASDAQ.ALXN</th>\n",
       "      <th>...</th>\n",
       "      <th>NYSE.WYN</th>\n",
       "      <th>NYSE.XEC</th>\n",
       "      <th>NYSE.XEL</th>\n",
       "      <th>NYSE.XL</th>\n",
       "      <th>NYSE.XOM</th>\n",
       "      <th>NYSE.XRX</th>\n",
       "      <th>NYSE.XYL</th>\n",
       "      <th>NYSE.YUM</th>\n",
       "      <th>NYSE.ZBH</th>\n",
       "      <th>NYSE.ZTS</th>\n",
       "    </tr>\n",
       "    <tr>\n",
       "      <th>DATE</th>\n",
       "      <th></th>\n",
       "      <th></th>\n",
       "      <th></th>\n",
       "      <th></th>\n",
       "      <th></th>\n",
       "      <th></th>\n",
       "      <th></th>\n",
       "      <th></th>\n",
       "      <th></th>\n",
       "      <th></th>\n",
       "      <th></th>\n",
       "      <th></th>\n",
       "      <th></th>\n",
       "      <th></th>\n",
       "      <th></th>\n",
       "      <th></th>\n",
       "      <th></th>\n",
       "      <th></th>\n",
       "      <th></th>\n",
       "      <th></th>\n",
       "      <th></th>\n",
       "    </tr>\n",
       "  </thead>\n",
       "  <tbody>\n",
       "    <tr>\n",
       "      <td>1491226200</td>\n",
       "      <td>1491226200</td>\n",
       "      <td>2363.6101</td>\n",
       "      <td>42.3300</td>\n",
       "      <td>143.6800</td>\n",
       "      <td>129.6300</td>\n",
       "      <td>82.040</td>\n",
       "      <td>102.2300</td>\n",
       "      <td>85.2200</td>\n",
       "      <td>59.760</td>\n",
       "      <td>121.520</td>\n",
       "      <td>...</td>\n",
       "      <td>84.3700</td>\n",
       "      <td>119.035</td>\n",
       "      <td>44.40</td>\n",
       "      <td>39.88</td>\n",
       "      <td>82.0300</td>\n",
       "      <td>7.360</td>\n",
       "      <td>50.22</td>\n",
       "      <td>63.86</td>\n",
       "      <td>122.000</td>\n",
       "      <td>53.350</td>\n",
       "    </tr>\n",
       "    <tr>\n",
       "      <td>1491226260</td>\n",
       "      <td>1491226260</td>\n",
       "      <td>2364.1001</td>\n",
       "      <td>42.3600</td>\n",
       "      <td>143.7000</td>\n",
       "      <td>130.3200</td>\n",
       "      <td>82.080</td>\n",
       "      <td>102.1400</td>\n",
       "      <td>85.6500</td>\n",
       "      <td>59.840</td>\n",
       "      <td>121.480</td>\n",
       "      <td>...</td>\n",
       "      <td>84.3700</td>\n",
       "      <td>119.035</td>\n",
       "      <td>44.11</td>\n",
       "      <td>39.88</td>\n",
       "      <td>82.0300</td>\n",
       "      <td>7.380</td>\n",
       "      <td>50.22</td>\n",
       "      <td>63.74</td>\n",
       "      <td>121.770</td>\n",
       "      <td>53.350</td>\n",
       "    </tr>\n",
       "    <tr>\n",
       "      <td>1491226320</td>\n",
       "      <td>1491226320</td>\n",
       "      <td>2362.6799</td>\n",
       "      <td>42.3100</td>\n",
       "      <td>143.6901</td>\n",
       "      <td>130.2250</td>\n",
       "      <td>82.030</td>\n",
       "      <td>102.2125</td>\n",
       "      <td>85.5100</td>\n",
       "      <td>59.795</td>\n",
       "      <td>121.930</td>\n",
       "      <td>...</td>\n",
       "      <td>84.5850</td>\n",
       "      <td>119.260</td>\n",
       "      <td>44.09</td>\n",
       "      <td>39.98</td>\n",
       "      <td>82.0200</td>\n",
       "      <td>7.360</td>\n",
       "      <td>50.12</td>\n",
       "      <td>63.75</td>\n",
       "      <td>121.700</td>\n",
       "      <td>53.365</td>\n",
       "    </tr>\n",
       "    <tr>\n",
       "      <td>1491226380</td>\n",
       "      <td>1491226380</td>\n",
       "      <td>2364.3101</td>\n",
       "      <td>42.3700</td>\n",
       "      <td>143.6400</td>\n",
       "      <td>130.0729</td>\n",
       "      <td>82.000</td>\n",
       "      <td>102.1400</td>\n",
       "      <td>85.4872</td>\n",
       "      <td>59.620</td>\n",
       "      <td>121.440</td>\n",
       "      <td>...</td>\n",
       "      <td>84.4600</td>\n",
       "      <td>119.260</td>\n",
       "      <td>44.25</td>\n",
       "      <td>39.99</td>\n",
       "      <td>82.0200</td>\n",
       "      <td>7.350</td>\n",
       "      <td>50.16</td>\n",
       "      <td>63.88</td>\n",
       "      <td>121.700</td>\n",
       "      <td>53.380</td>\n",
       "    </tr>\n",
       "    <tr>\n",
       "      <td>1491226440</td>\n",
       "      <td>1491226440</td>\n",
       "      <td>2364.8501</td>\n",
       "      <td>42.5378</td>\n",
       "      <td>143.6600</td>\n",
       "      <td>129.8800</td>\n",
       "      <td>82.035</td>\n",
       "      <td>102.0600</td>\n",
       "      <td>85.7001</td>\n",
       "      <td>59.620</td>\n",
       "      <td>121.600</td>\n",
       "      <td>...</td>\n",
       "      <td>84.4700</td>\n",
       "      <td>119.610</td>\n",
       "      <td>44.11</td>\n",
       "      <td>39.96</td>\n",
       "      <td>82.0300</td>\n",
       "      <td>7.360</td>\n",
       "      <td>50.20</td>\n",
       "      <td>63.91</td>\n",
       "      <td>121.695</td>\n",
       "      <td>53.240</td>\n",
       "    </tr>\n",
       "    <tr>\n",
       "      <td>1491226500</td>\n",
       "      <td>1491226500</td>\n",
       "      <td>2365.6201</td>\n",
       "      <td>42.5399</td>\n",
       "      <td>143.7800</td>\n",
       "      <td>130.0700</td>\n",
       "      <td>82.040</td>\n",
       "      <td>102.0400</td>\n",
       "      <td>85.9200</td>\n",
       "      <td>59.610</td>\n",
       "      <td>121.700</td>\n",
       "      <td>...</td>\n",
       "      <td>84.4825</td>\n",
       "      <td>119.580</td>\n",
       "      <td>44.15</td>\n",
       "      <td>39.96</td>\n",
       "      <td>82.0300</td>\n",
       "      <td>7.360</td>\n",
       "      <td>50.20</td>\n",
       "      <td>63.84</td>\n",
       "      <td>121.850</td>\n",
       "      <td>53.220</td>\n",
       "    </tr>\n",
       "    <tr>\n",
       "      <td>1491226560</td>\n",
       "      <td>1491226560</td>\n",
       "      <td>2365.2000</td>\n",
       "      <td>42.4700</td>\n",
       "      <td>143.8640</td>\n",
       "      <td>130.1800</td>\n",
       "      <td>82.120</td>\n",
       "      <td>102.3300</td>\n",
       "      <td>85.9120</td>\n",
       "      <td>59.540</td>\n",
       "      <td>121.630</td>\n",
       "      <td>...</td>\n",
       "      <td>84.5000</td>\n",
       "      <td>119.320</td>\n",
       "      <td>44.20</td>\n",
       "      <td>39.98</td>\n",
       "      <td>82.0566</td>\n",
       "      <td>7.365</td>\n",
       "      <td>50.33</td>\n",
       "      <td>63.83</td>\n",
       "      <td>122.100</td>\n",
       "      <td>53.330</td>\n",
       "    </tr>\n",
       "    <tr>\n",
       "      <td>1491226620</td>\n",
       "      <td>1491226620</td>\n",
       "      <td>2365.2900</td>\n",
       "      <td>42.4700</td>\n",
       "      <td>143.8100</td>\n",
       "      <td>130.1400</td>\n",
       "      <td>82.190</td>\n",
       "      <td>102.3700</td>\n",
       "      <td>85.8200</td>\n",
       "      <td>59.410</td>\n",
       "      <td>121.610</td>\n",
       "      <td>...</td>\n",
       "      <td>84.5200</td>\n",
       "      <td>119.110</td>\n",
       "      <td>44.12</td>\n",
       "      <td>39.95</td>\n",
       "      <td>82.0000</td>\n",
       "      <td>7.360</td>\n",
       "      <td>50.30</td>\n",
       "      <td>63.83</td>\n",
       "      <td>122.280</td>\n",
       "      <td>53.370</td>\n",
       "    </tr>\n",
       "    <tr>\n",
       "      <td>1491226680</td>\n",
       "      <td>1491226680</td>\n",
       "      <td>2364.3201</td>\n",
       "      <td>42.3900</td>\n",
       "      <td>143.8150</td>\n",
       "      <td>130.1000</td>\n",
       "      <td>82.230</td>\n",
       "      <td>102.3800</td>\n",
       "      <td>85.8800</td>\n",
       "      <td>59.430</td>\n",
       "      <td>121.715</td>\n",
       "      <td>...</td>\n",
       "      <td>84.4800</td>\n",
       "      <td>119.310</td>\n",
       "      <td>44.12</td>\n",
       "      <td>39.93</td>\n",
       "      <td>81.9500</td>\n",
       "      <td>7.370</td>\n",
       "      <td>50.25</td>\n",
       "      <td>63.85</td>\n",
       "      <td>121.875</td>\n",
       "      <td>53.330</td>\n",
       "    </tr>\n",
       "    <tr>\n",
       "      <td>1491226740</td>\n",
       "      <td>1491226740</td>\n",
       "      <td>2364.6399</td>\n",
       "      <td>42.3300</td>\n",
       "      <td>143.8000</td>\n",
       "      <td>130.2100</td>\n",
       "      <td>82.165</td>\n",
       "      <td>102.3300</td>\n",
       "      <td>85.8600</td>\n",
       "      <td>59.260</td>\n",
       "      <td>121.850</td>\n",
       "      <td>...</td>\n",
       "      <td>84.4000</td>\n",
       "      <td>119.150</td>\n",
       "      <td>44.17</td>\n",
       "      <td>39.86</td>\n",
       "      <td>81.9000</td>\n",
       "      <td>7.365</td>\n",
       "      <td>50.22</td>\n",
       "      <td>63.84</td>\n",
       "      <td>121.930</td>\n",
       "      <td>53.400</td>\n",
       "    </tr>\n",
       "  </tbody>\n",
       "</table>\n",
       "<p>10 rows × 502 columns</p>\n",
       "</div>"
      ],
      "text/plain": [
       "                  DATE      SP500  NASDAQ.AAL  NASDAQ.AAPL  NASDAQ.ADBE  \\\n",
       "DATE                                                                      \n",
       "1491226200  1491226200  2363.6101     42.3300     143.6800     129.6300   \n",
       "1491226260  1491226260  2364.1001     42.3600     143.7000     130.3200   \n",
       "1491226320  1491226320  2362.6799     42.3100     143.6901     130.2250   \n",
       "1491226380  1491226380  2364.3101     42.3700     143.6400     130.0729   \n",
       "1491226440  1491226440  2364.8501     42.5378     143.6600     129.8800   \n",
       "1491226500  1491226500  2365.6201     42.5399     143.7800     130.0700   \n",
       "1491226560  1491226560  2365.2000     42.4700     143.8640     130.1800   \n",
       "1491226620  1491226620  2365.2900     42.4700     143.8100     130.1400   \n",
       "1491226680  1491226680  2364.3201     42.3900     143.8150     130.1000   \n",
       "1491226740  1491226740  2364.6399     42.3300     143.8000     130.2100   \n",
       "\n",
       "            NASDAQ.ADI  NASDAQ.ADP  NASDAQ.ADSK  NASDAQ.AKAM  NASDAQ.ALXN  \\\n",
       "DATE                                                                        \n",
       "1491226200      82.040    102.2300      85.2200       59.760      121.520   \n",
       "1491226260      82.080    102.1400      85.6500       59.840      121.480   \n",
       "1491226320      82.030    102.2125      85.5100       59.795      121.930   \n",
       "1491226380      82.000    102.1400      85.4872       59.620      121.440   \n",
       "1491226440      82.035    102.0600      85.7001       59.620      121.600   \n",
       "1491226500      82.040    102.0400      85.9200       59.610      121.700   \n",
       "1491226560      82.120    102.3300      85.9120       59.540      121.630   \n",
       "1491226620      82.190    102.3700      85.8200       59.410      121.610   \n",
       "1491226680      82.230    102.3800      85.8800       59.430      121.715   \n",
       "1491226740      82.165    102.3300      85.8600       59.260      121.850   \n",
       "\n",
       "            ...  NYSE.WYN  NYSE.XEC  NYSE.XEL  NYSE.XL  NYSE.XOM  NYSE.XRX  \\\n",
       "DATE        ...                                                              \n",
       "1491226200  ...   84.3700   119.035     44.40    39.88   82.0300     7.360   \n",
       "1491226260  ...   84.3700   119.035     44.11    39.88   82.0300     7.380   \n",
       "1491226320  ...   84.5850   119.260     44.09    39.98   82.0200     7.360   \n",
       "1491226380  ...   84.4600   119.260     44.25    39.99   82.0200     7.350   \n",
       "1491226440  ...   84.4700   119.610     44.11    39.96   82.0300     7.360   \n",
       "1491226500  ...   84.4825   119.580     44.15    39.96   82.0300     7.360   \n",
       "1491226560  ...   84.5000   119.320     44.20    39.98   82.0566     7.365   \n",
       "1491226620  ...   84.5200   119.110     44.12    39.95   82.0000     7.360   \n",
       "1491226680  ...   84.4800   119.310     44.12    39.93   81.9500     7.370   \n",
       "1491226740  ...   84.4000   119.150     44.17    39.86   81.9000     7.365   \n",
       "\n",
       "            NYSE.XYL  NYSE.YUM  NYSE.ZBH  NYSE.ZTS  \n",
       "DATE                                                \n",
       "1491226200     50.22     63.86   122.000    53.350  \n",
       "1491226260     50.22     63.74   121.770    53.350  \n",
       "1491226320     50.12     63.75   121.700    53.365  \n",
       "1491226380     50.16     63.88   121.700    53.380  \n",
       "1491226440     50.20     63.91   121.695    53.240  \n",
       "1491226500     50.20     63.84   121.850    53.220  \n",
       "1491226560     50.33     63.83   122.100    53.330  \n",
       "1491226620     50.30     63.83   122.280    53.370  \n",
       "1491226680     50.25     63.85   121.875    53.330  \n",
       "1491226740     50.22     63.84   121.930    53.400  \n",
       "\n",
       "[10 rows x 502 columns]"
      ]
     },
     "execution_count": 4,
     "metadata": {},
     "output_type": "execute_result"
    }
   ],
   "source": [
    "df.head(10)"
   ]
  },
  {
   "cell_type": "code",
   "execution_count": 5,
   "metadata": {},
   "outputs": [],
   "source": [
    "Stockdata=df[['NASDAQ.AAPL', 'NASDAQ.ADP','NASDAQ.CBOE','NASDAQ.CSCO','NASDAQ.EBAY']] "
   ]
  },
  {
   "cell_type": "code",
   "execution_count": 6,
   "metadata": {},
   "outputs": [
    {
     "data": {
      "text/html": [
       "<div>\n",
       "<style scoped>\n",
       "    .dataframe tbody tr th:only-of-type {\n",
       "        vertical-align: middle;\n",
       "    }\n",
       "\n",
       "    .dataframe tbody tr th {\n",
       "        vertical-align: top;\n",
       "    }\n",
       "\n",
       "    .dataframe thead th {\n",
       "        text-align: right;\n",
       "    }\n",
       "</style>\n",
       "<table border=\"1\" class=\"dataframe\">\n",
       "  <thead>\n",
       "    <tr style=\"text-align: right;\">\n",
       "      <th></th>\n",
       "      <th>NASDAQ.AAPL</th>\n",
       "      <th>NASDAQ.ADP</th>\n",
       "      <th>NASDAQ.CBOE</th>\n",
       "      <th>NASDAQ.CSCO</th>\n",
       "      <th>NASDAQ.EBAY</th>\n",
       "    </tr>\n",
       "    <tr>\n",
       "      <th>DATE</th>\n",
       "      <th></th>\n",
       "      <th></th>\n",
       "      <th></th>\n",
       "      <th></th>\n",
       "      <th></th>\n",
       "    </tr>\n",
       "  </thead>\n",
       "  <tbody>\n",
       "    <tr>\n",
       "      <td>1491226200</td>\n",
       "      <td>143.6800</td>\n",
       "      <td>102.2300</td>\n",
       "      <td>81.03</td>\n",
       "      <td>33.7400</td>\n",
       "      <td>33.3975</td>\n",
       "    </tr>\n",
       "    <tr>\n",
       "      <td>1491226260</td>\n",
       "      <td>143.7000</td>\n",
       "      <td>102.1400</td>\n",
       "      <td>81.21</td>\n",
       "      <td>33.8800</td>\n",
       "      <td>33.3950</td>\n",
       "    </tr>\n",
       "    <tr>\n",
       "      <td>1491226320</td>\n",
       "      <td>143.6901</td>\n",
       "      <td>102.2125</td>\n",
       "      <td>81.21</td>\n",
       "      <td>33.9000</td>\n",
       "      <td>33.4100</td>\n",
       "    </tr>\n",
       "    <tr>\n",
       "      <td>1491226380</td>\n",
       "      <td>143.6400</td>\n",
       "      <td>102.1400</td>\n",
       "      <td>81.13</td>\n",
       "      <td>33.8499</td>\n",
       "      <td>33.3350</td>\n",
       "    </tr>\n",
       "    <tr>\n",
       "      <td>1491226440</td>\n",
       "      <td>143.6600</td>\n",
       "      <td>102.0600</td>\n",
       "      <td>81.12</td>\n",
       "      <td>33.8400</td>\n",
       "      <td>33.4000</td>\n",
       "    </tr>\n",
       "    <tr>\n",
       "      <td>1491226500</td>\n",
       "      <td>143.7800</td>\n",
       "      <td>102.0400</td>\n",
       "      <td>81.22</td>\n",
       "      <td>33.8800</td>\n",
       "      <td>33.4300</td>\n",
       "    </tr>\n",
       "    <tr>\n",
       "      <td>1491226560</td>\n",
       "      <td>143.8640</td>\n",
       "      <td>102.3300</td>\n",
       "      <td>81.16</td>\n",
       "      <td>33.9000</td>\n",
       "      <td>33.4650</td>\n",
       "    </tr>\n",
       "    <tr>\n",
       "      <td>1491226620</td>\n",
       "      <td>143.8100</td>\n",
       "      <td>102.3700</td>\n",
       "      <td>81.16</td>\n",
       "      <td>33.8900</td>\n",
       "      <td>33.5300</td>\n",
       "    </tr>\n",
       "    <tr>\n",
       "      <td>1491226680</td>\n",
       "      <td>143.8150</td>\n",
       "      <td>102.3800</td>\n",
       "      <td>81.16</td>\n",
       "      <td>33.9200</td>\n",
       "      <td>33.5650</td>\n",
       "    </tr>\n",
       "    <tr>\n",
       "      <td>1491226740</td>\n",
       "      <td>143.8000</td>\n",
       "      <td>102.3300</td>\n",
       "      <td>81.13</td>\n",
       "      <td>33.8950</td>\n",
       "      <td>33.6000</td>\n",
       "    </tr>\n",
       "  </tbody>\n",
       "</table>\n",
       "</div>"
      ],
      "text/plain": [
       "            NASDAQ.AAPL  NASDAQ.ADP  NASDAQ.CBOE  NASDAQ.CSCO  NASDAQ.EBAY\n",
       "DATE                                                                      \n",
       "1491226200     143.6800    102.2300        81.03      33.7400      33.3975\n",
       "1491226260     143.7000    102.1400        81.21      33.8800      33.3950\n",
       "1491226320     143.6901    102.2125        81.21      33.9000      33.4100\n",
       "1491226380     143.6400    102.1400        81.13      33.8499      33.3350\n",
       "1491226440     143.6600    102.0600        81.12      33.8400      33.4000\n",
       "1491226500     143.7800    102.0400        81.22      33.8800      33.4300\n",
       "1491226560     143.8640    102.3300        81.16      33.9000      33.4650\n",
       "1491226620     143.8100    102.3700        81.16      33.8900      33.5300\n",
       "1491226680     143.8150    102.3800        81.16      33.9200      33.5650\n",
       "1491226740     143.8000    102.3300        81.13      33.8950      33.6000"
      ]
     },
     "execution_count": 6,
     "metadata": {},
     "output_type": "execute_result"
    }
   ],
   "source": [
    "Stockdata.head(10)"
   ]
  },
  {
   "cell_type": "code",
   "execution_count": 7,
   "metadata": {},
   "outputs": [
    {
     "data": {
      "image/png": "[encoded data removed]",
      "text/plain": [
       "<Figure size 432x288 with 1 Axes>"
      ]
     },
     "metadata": {
      "needs_background": "light"
     },
     "output_type": "display_data"
    }
   ],
   "source": [
    "plt.plot(Stockdata)\n",
    "plt.show()"
   ]
  },
  {
   "cell_type": "code",
   "execution_count": 8,
   "metadata": {},
   "outputs": [
    {
     "data": {
      "image/png": "[encoded data removed]",
      "text/plain": [
       "<Figure size 432x288 with 1 Axes>"
      ]
     },
     "metadata": {
      "needs_background": "light"
     },
     "output_type": "display_data"
    }
   ],
   "source": [
    "price=np.log(Stockdata)\n",
    "plt.plot(price)\n",
    "plt.show()"
   ]
  },
  {
   "cell_type": "code",
   "execution_count": 9,
   "metadata": {},
   "outputs": [
    {
     "data": {
      "image/png": "[encoded data removed]",
      "text/plain": [
       "<Figure size 432x288 with 1 Axes>"
      ]
     },
     "metadata": {
      "needs_background": "light"
     },
     "output_type": "display_data"
    }
   ],
   "source": [
    "plt.plot(price['NASDAQ.AAPL'])\n",
    "plt.show()"
   ]
  },
  {
   "cell_type": "code",
   "execution_count": 10,
   "metadata": {},
   "outputs": [
    {
     "data": {
      "text/plain": [
       "<matplotlib.axes._subplots.AxesSubplot at 0x1c19bbb790>"
      ]
     },
     "execution_count": 10,
     "metadata": {},
     "output_type": "execute_result"
    },
    {
     "data": {
      "image/png": "[encoded data removed]",
      "text/plain": [
       "<Figure size 432x288 with 1 Axes>"
      ]
     },
     "metadata": {
      "needs_background": "light"
     },
     "output_type": "display_data"
    }
   ],
   "source": [
    "autocorrelation_plot(price['NASDAQ.AAPL'])\n",
    "autocorrelation_plot(price['NASDAQ.ADP'])\n",
    "autocorrelation_plot(price['NASDAQ.CBOE'])\n",
    "autocorrelation_plot(price['NASDAQ.CSCO'])\n",
    "autocorrelation_plot(price['NASDAQ.EBAY'])"
   ]
  },
  {
   "cell_type": "code",
   "execution_count": 11,
   "metadata": {},
   "outputs": [
    {
     "data": {
      "image/png": "[encoded data removed]",
      "text/plain": [
       "<Figure size 432x288 with 1 Axes>"
      ]
     },
     "execution_count": 11,
     "metadata": {},
     "output_type": "execute_result"
    },
    {
     "data": {
      "image/png": "[encoded data removed]",
      "text/plain": [
       "<Figure size 432x288 with 1 Axes>"
      ]
     },
     "metadata": {
      "needs_background": "light"
     },
     "output_type": "display_data"
    },
    {
     "data": {
      "image/png": "[encoded data removed]",
      "text/plain": [
       "<Figure size 432x288 with 1 Axes>"
      ]
     },
     "metadata": {
      "needs_background": "light"
     },
     "output_type": "display_data"
    },
    {
     "data": {
      "image/png": "[encoded data removed]",
      "text/plain": [
       "<Figure size 432x288 with 1 Axes>"
      ]
     },
     "metadata": {
      "needs_background": "light"
     },
     "output_type": "display_data"
    },
    {
     "data": {
      "image/png": "[encoded data removed]",
      "text/plain": [
       "<Figure size 432x288 with 1 Axes>"
      ]
     },
     "metadata": {
      "needs_background": "light"
     },
     "output_type": "display_data"
    },
    {
     "data": {
      "image/png": "[encoded data removed]",
      "text/plain": [
       "<Figure size 432x288 with 1 Axes>"
      ]
     },
     "metadata": {
      "needs_background": "light"
     },
     "output_type": "display_data"
    }
   ],
   "source": [
    "plot_pacf(price['NASDAQ.AAPL'],lags=20)\n",
    "plot_pacf(price['NASDAQ.ADP'],lags=20)\n",
    "plot_pacf(price['NASDAQ.CBOE'],lags=20)\n",
    "plot_pacf(price['NASDAQ.CSCO'],lags=20)\n",
    "plot_pacf(price['NASDAQ.EBAY'],lags=20)"
   ]
  },
  {
   "cell_type": "code",
   "execution_count": 12,
   "metadata": {},
   "outputs": [
    {
     "name": "stdout",
     "output_type": "stream",
     "text": [
      "NASDAQ.AAPL-mean1=4.968281, mean2=5.012937\n",
      "NASDAQ.AAPL-variance1=0.000002, variance2=0.001699\n",
      "NASDAQ.ADP-mean1=4.623438, mean2=4.638547\n",
      "NASDAQ.ADP-variance1=0.000013, variance2=0.001734\n",
      "NASDAQ.CBOE-mean1=4.390822, mean2=5.012937\n",
      "NASDAQ.CBOE-variance1=0.000018, variance2=0.001699\n",
      "NASDAQ.CSCO-mean1=3.517305, mean2=5.012937\n",
      "NASDAQ.CSCO-variance1=0.000013, variance2=0.001699\n",
      "NASDAQ.EBAY-mean1=3.514599, mean2=5.012937\n",
      "NASDAQ.EBAY-variance1=0.000018, variance2=0.001699\n"
     ]
    }
   ],
   "source": [
    "mean1, mean2 =price['NASDAQ.AAPL'].iloc[:125].mean(), price['NASDAQ.AAPL'].iloc[125:].mean()\n",
    "var1, var2 = price['NASDAQ.AAPL'].iloc[:125].var(), price['NASDAQ.AAPL'].iloc[125:].var()\n",
    "print('NASDAQ.AAPL-mean1=%f, mean2=%f' % (mean1, mean2))\n",
    "print('NASDAQ.AAPL-variance1=%f, variance2=%f' % (var1, var2))\n",
    "mean1, mean2 =price['NASDAQ.ADP'].iloc[:125].mean(), price['NASDAQ.ADP'].iloc[125:].mean()\n",
    "var1, var2 = price['NASDAQ.ADP'].iloc[:125].var(), price['NASDAQ.ADP'].iloc[125:].var()\n",
    "print('NASDAQ.ADP-mean1=%f, mean2=%f' % (mean1, mean2))\n",
    "print('NASDAQ.ADP-variance1=%f, variance2=%f' % (var1, var2))\n",
    "mean1, mean2 =price['NASDAQ.CBOE'].iloc[:125].mean(), price['NASDAQ.AAPL'].iloc[125:].mean()\n",
    "var1, var2 = price['NASDAQ.CBOE'].iloc[:125].var(), price['NASDAQ.AAPL'].iloc[125:].var()\n",
    "print('NASDAQ.CBOE-mean1=%f, mean2=%f' % (mean1, mean2))\n",
    "print('NASDAQ.CBOE-variance1=%f, variance2=%f' % (var1, var2))\n",
    "mean1, mean2 =price['NASDAQ.CSCO'].iloc[:125].mean(), price['NASDAQ.AAPL'].iloc[125:].mean()\n",
    "var1, var2 = price['NASDAQ.CSCO'].iloc[:125].var(), price['NASDAQ.AAPL'].iloc[125:].var()\n",
    "print('NASDAQ.CSCO-mean1=%f, mean2=%f' % (mean1, mean2))\n",
    "print('NASDAQ.CSCO-variance1=%f, variance2=%f' % (var1, var2))\n",
    "mean1, mean2 =price['NASDAQ.EBAY'].iloc[:125].mean(), price['NASDAQ.AAPL'].iloc[125:].mean()\n",
    "var1, var2 = price['NASDAQ.EBAY'].iloc[:125].var(), price['NASDAQ.AAPL'].iloc[125:].var()\n",
    "print('NASDAQ.EBAY-mean1=%f, mean2=%f' % (mean1, mean2))\n",
    "print('NASDAQ.EBAY-variance1=%f, variance2=%f' % (var1, var2))"
   ]
  },
  {
   "cell_type": "code",
   "execution_count": 13,
   "metadata": {},
   "outputs": [
    {
     "name": "stdout",
     "output_type": "stream",
     "text": [
      "NASDAQ.AAPL-ADF Statistic: -0.961351\n",
      "p-value: 0.767098\n",
      "NASDAQ.CBOE-ADF Statistic: -0.025903\n",
      "p-value: 0.956337\n",
      "NASDAQ.CSCO-ADF Statistic: -2.407400\n",
      "p-value: 0.139659\n",
      "NASDAQ.ADP-ADF Statistic: -1.685115\n",
      "p-value: 0.438797\n",
      "NASDAQ.EBAY-ADF Statistic: -1.879653\n",
      "p-value: 0.341693\n"
     ]
    }
   ],
   "source": [
    "adf_result= adfuller(price['NASDAQ.AAPL'])\n",
    "print('NASDAQ.AAPL-ADF Statistic: %f' % adf_result[0])\n",
    "print('p-value: %f' % adf_result[1])\n",
    "adf_result= adfuller(price['NASDAQ.CBOE'])\n",
    "print('NASDAQ.CBOE-ADF Statistic: %f' % adf_result[0])\n",
    "print('p-value: %f' % adf_result[1])\n",
    "adf_result= adfuller(price['NASDAQ.CSCO'])\n",
    "print('NASDAQ.CSCO-ADF Statistic: %f' % adf_result[0])\n",
    "print('p-value: %f' % adf_result[1])\n",
    "adf_result= adfuller(price['NASDAQ.ADP'])\n",
    "print('NASDAQ.ADP-ADF Statistic: %f' % adf_result[0])\n",
    "print('p-value: %f' % adf_result[1])\n",
    "adf_result= adfuller(price['NASDAQ.EBAY'])\n",
    "print('NASDAQ.EBAY-ADF Statistic: %f' % adf_result[0])\n",
    "print('p-value: %f' % adf_result[1])"
   ]
  },
  {
   "cell_type": "code",
   "execution_count": 14,
   "metadata": {},
   "outputs": [],
   "source": [
    "first_order_diff = price['NASDAQ.AAPL'].diff(1).dropna()"
   ]
  },
  {
   "cell_type": "code",
   "execution_count": 15,
   "metadata": {},
   "outputs": [],
   "source": [
    "adf_result= adfuller(first_order_diff)"
   ]
  },
  {
   "cell_type": "code",
   "execution_count": 16,
   "metadata": {},
   "outputs": [
    {
     "name": "stdout",
     "output_type": "stream",
     "text": [
      "p-value: 0.000000\n"
     ]
    }
   ],
   "source": [
    "print('p-value: %f' % adf_result[1])"
   ]
  },
  {
   "cell_type": "code",
   "execution_count": 17,
   "metadata": {},
   "outputs": [],
   "source": [
    "from statsmodels.tsa.arima_model import ARIMA"
   ]
  },
  {
   "cell_type": "code",
   "execution_count": 18,
   "metadata": {},
   "outputs": [
    {
     "name": "stderr",
     "output_type": "stream",
     "text": [
      "/Users/rosmebabyjoseph/opt/anaconda3/lib/python3.7/site-packages/statsmodels/base/model.py:492: HessianInversionWarning: Inverting hessian failed, no bse or cov_params available\n",
      "  'available', HessianInversionWarning)\n",
      "/Users/rosmebabyjoseph/opt/anaconda3/lib/python3.7/site-packages/statsmodels/tsa/arima_model.py:1441: RuntimeWarning: invalid value encountered in sqrt\n",
      "  return np.sqrt(np.diag(-inv(hess)))\n",
      "/Users/rosmebabyjoseph/opt/anaconda3/lib/python3.7/site-packages/scipy/stats/_distn_infrastructure.py:901: RuntimeWarning: invalid value encountered in greater\n",
      "  return (a < x) & (x < b)\n",
      "/Users/rosmebabyjoseph/opt/anaconda3/lib/python3.7/site-packages/scipy/stats/_distn_infrastructure.py:901: RuntimeWarning: invalid value encountered in less\n",
      "  return (a < x) & (x < b)\n",
      "/Users/rosmebabyjoseph/opt/anaconda3/lib/python3.7/site-packages/scipy/stats/_distn_infrastructure.py:1892: RuntimeWarning: invalid value encountered in less_equal\n",
      "  cond2 = cond0 & (x <= _a)\n"
     ]
    },
    {
     "data": {
      "text/html": [
       "<table class=\"simpletable\">\n",
       "<caption>ARIMA Model Results</caption>\n",
       "<tr>\n",
       "  <th>Dep. Variable:</th>       <td>D2.y</td>       <th>  No. Observations:  </th>    <td>41264</td>   \n",
       "</tr>\n",
       "<tr>\n",
       "  <th>Model:</th>          <td>ARIMA(0, 2, 1)</td>  <th>  Log Likelihood     </th> <td>246334.121</td> \n",
       "</tr>\n",
       "<tr>\n",
       "  <th>Method:</th>             <td>css-mle</td>     <th>  S.D. of innovations</th>    <td>0.001</td>   \n",
       "</tr>\n",
       "<tr>\n",
       "  <th>Date:</th>          <td>Tue, 26 Nov 2019</td> <th>  AIC                </th> <td>-492662.242</td>\n",
       "</tr>\n",
       "<tr>\n",
       "  <th>Time:</th>              <td>17:56:35</td>     <th>  BIC                </th> <td>-492636.358</td>\n",
       "</tr>\n",
       "<tr>\n",
       "  <th>Sample:</th>                <td>2</td>        <th>  HQIC               </th> <td>-492654.061</td>\n",
       "</tr>\n",
       "<tr>\n",
       "  <th></th>                       <td> </td>        <th>                     </th>      <td> </td>     \n",
       "</tr>\n",
       "</table>\n",
       "<table class=\"simpletable\">\n",
       "<tr>\n",
       "       <td></td>         <th>coef</th>     <th>std err</th>      <th>z</th>      <th>P>|z|</th>  <th>[0.025</th>    <th>0.975]</th>  \n",
       "</tr>\n",
       "<tr>\n",
       "  <th>const</th>      <td>-4.208e-09</td> <td>      nan</td> <td>      nan</td> <td>   nan</td> <td>      nan</td> <td>      nan</td>\n",
       "</tr>\n",
       "<tr>\n",
       "  <th>ma.L1.D2.y</th> <td>   -0.9988</td> <td>      nan</td> <td>      nan</td> <td>   nan</td> <td>      nan</td> <td>      nan</td>\n",
       "</tr>\n",
       "</table>\n",
       "<table class=\"simpletable\">\n",
       "<caption>Roots</caption>\n",
       "<tr>\n",
       "    <td></td>   <th>            Real</th>  <th>         Imaginary</th> <th>         Modulus</th>  <th>        Frequency</th>\n",
       "</tr>\n",
       "<tr>\n",
       "  <th>MA.1</th> <td>           1.0012</td> <td>          +0.0000j</td> <td>           1.0012</td> <td>           0.0000</td>\n",
       "</tr>\n",
       "</table>"
      ],
      "text/plain": [
       "<class 'statsmodels.iolib.summary.Summary'>\n",
       "\"\"\"\n",
       "                             ARIMA Model Results                              \n",
       "==============================================================================\n",
       "Dep. Variable:                   D2.y   No. Observations:                41264\n",
       "Model:                 ARIMA(0, 2, 1)   Log Likelihood              246334.121\n",
       "Method:                       css-mle   S.D. of innovations              0.001\n",
       "Date:                Tue, 26 Nov 2019   AIC                        -492662.242\n",
       "Time:                        17:56:35   BIC                        -492636.358\n",
       "Sample:                             2   HQIC                       -492654.061\n",
       "                                                                              \n",
       "==============================================================================\n",
       "                 coef    std err          z      P>|z|      [0.025      0.975]\n",
       "------------------------------------------------------------------------------\n",
       "const      -4.208e-09        nan        nan        nan         nan         nan\n",
       "ma.L1.D2.y    -0.9988        nan        nan        nan         nan         nan\n",
       "                                    Roots                                    \n",
       "=============================================================================\n",
       "                  Real          Imaginary           Modulus         Frequency\n",
       "-----------------------------------------------------------------------------\n",
       "MA.1            1.0012           +0.0000j            1.0012            0.0000\n",
       "-----------------------------------------------------------------------------\n",
       "\"\"\""
      ]
     },
     "execution_count": 18,
     "metadata": {},
     "output_type": "execute_result"
    }
   ],
   "source": [
    "arima_obj = ARIMA(price['NASDAQ.AAPL'].tolist(), order=(0,2,1))\n",
    "arima_obj_fit = arima_obj.fit(disp=0)\n",
    "arima_obj_fit.summary()"
   ]
  },
  {
   "cell_type": "code",
   "execution_count": 19,
   "metadata": {},
   "outputs": [
    {
     "name": "stderr",
     "output_type": "stream",
     "text": [
      "/Users/rosmebabyjoseph/opt/anaconda3/lib/python3.7/site-packages/statsmodels/base/model.py:512: ConvergenceWarning: Maximum Likelihood optimization failed to converge. Check mle_retvals\n",
      "  \"Check mle_retvals\", ConvergenceWarning)\n"
     ]
    },
    {
     "data": {
      "text/html": [
       "<table class=\"simpletable\">\n",
       "<caption>ARIMA Model Results</caption>\n",
       "<tr>\n",
       "  <th>Dep. Variable:</th>       <td>D2.y</td>       <th>  No. Observations:  </th>    <td>41264</td>   \n",
       "</tr>\n",
       "<tr>\n",
       "  <th>Model:</th>          <td>ARIMA(0, 2, 1)</td>  <th>  Log Likelihood     </th> <td>241210.860</td> \n",
       "</tr>\n",
       "<tr>\n",
       "  <th>Method:</th>             <td>css-mle</td>     <th>  S.D. of innovations</th>    <td>0.001</td>   \n",
       "</tr>\n",
       "<tr>\n",
       "  <th>Date:</th>          <td>Tue, 26 Nov 2019</td> <th>  AIC                </th> <td>-482415.720</td>\n",
       "</tr>\n",
       "<tr>\n",
       "  <th>Time:</th>              <td>17:56:52</td>     <th>  BIC                </th> <td>-482389.836</td>\n",
       "</tr>\n",
       "<tr>\n",
       "  <th>Sample:</th>                <td>2</td>        <th>  HQIC               </th> <td>-482407.539</td>\n",
       "</tr>\n",
       "<tr>\n",
       "  <th></th>                       <td> </td>        <th>                     </th>      <td> </td>     \n",
       "</tr>\n",
       "</table>\n",
       "<table class=\"simpletable\">\n",
       "<tr>\n",
       "       <td></td>         <th>coef</th>     <th>std err</th>      <th>z</th>      <th>P>|z|</th>  <th>[0.025</th>    <th>0.975]</th>  \n",
       "</tr>\n",
       "<tr>\n",
       "  <th>const</th>      <td>-3.551e-09</td> <td> 2.11e-08</td> <td>   -0.169</td> <td> 0.866</td> <td>-4.49e-08</td> <td> 3.78e-08</td>\n",
       "</tr>\n",
       "<tr>\n",
       "  <th>ma.L1.D2.y</th> <td>   -0.9940</td> <td>    0.002</td> <td> -438.995</td> <td> 0.000</td> <td>   -0.998</td> <td>   -0.990</td>\n",
       "</tr>\n",
       "</table>\n",
       "<table class=\"simpletable\">\n",
       "<caption>Roots</caption>\n",
       "<tr>\n",
       "    <td></td>   <th>            Real</th>  <th>         Imaginary</th> <th>         Modulus</th>  <th>        Frequency</th>\n",
       "</tr>\n",
       "<tr>\n",
       "  <th>MA.1</th> <td>           1.0060</td> <td>          +0.0000j</td> <td>           1.0060</td> <td>           0.0000</td>\n",
       "</tr>\n",
       "</table>"
      ],
      "text/plain": [
       "<class 'statsmodels.iolib.summary.Summary'>\n",
       "\"\"\"\n",
       "                             ARIMA Model Results                              \n",
       "==============================================================================\n",
       "Dep. Variable:                   D2.y   No. Observations:                41264\n",
       "Model:                 ARIMA(0, 2, 1)   Log Likelihood              241210.860\n",
       "Method:                       css-mle   S.D. of innovations              0.001\n",
       "Date:                Tue, 26 Nov 2019   AIC                        -482415.720\n",
       "Time:                        17:56:52   BIC                        -482389.836\n",
       "Sample:                             2   HQIC                       -482407.539\n",
       "                                                                              \n",
       "==============================================================================\n",
       "                 coef    std err          z      P>|z|      [0.025      0.975]\n",
       "------------------------------------------------------------------------------\n",
       "const      -3.551e-09   2.11e-08     -0.169      0.866   -4.49e-08    3.78e-08\n",
       "ma.L1.D2.y    -0.9940      0.002   -438.995      0.000      -0.998      -0.990\n",
       "                                    Roots                                    \n",
       "=============================================================================\n",
       "                  Real          Imaginary           Modulus         Frequency\n",
       "-----------------------------------------------------------------------------\n",
       "MA.1            1.0060           +0.0000j            1.0060            0.0000\n",
       "-----------------------------------------------------------------------------\n",
       "\"\"\""
      ]
     },
     "execution_count": 19,
     "metadata": {},
     "output_type": "execute_result"
    }
   ],
   "source": [
    "arima_obj = ARIMA(price['NASDAQ.ADP'].tolist(), order=(0,2,1))\n",
    "arima_obj_fit = arima_obj.fit(disp=0)\n",
    "arima_obj_fit.summary()"
   ]
  },
  {
   "cell_type": "code",
   "execution_count": 20,
   "metadata": {},
   "outputs": [
    {
     "data": {
      "text/html": [
       "<table class=\"simpletable\">\n",
       "<caption>ARIMA Model Results</caption>\n",
       "<tr>\n",
       "  <th>Dep. Variable:</th>       <td>D2.y</td>       <th>  No. Observations:  </th>    <td>41264</td>   \n",
       "</tr>\n",
       "<tr>\n",
       "  <th>Model:</th>          <td>ARIMA(0, 2, 1)</td>  <th>  Log Likelihood     </th> <td>243089.139</td> \n",
       "</tr>\n",
       "<tr>\n",
       "  <th>Method:</th>             <td>css-mle</td>     <th>  S.D. of innovations</th>    <td>0.001</td>   \n",
       "</tr>\n",
       "<tr>\n",
       "  <th>Date:</th>          <td>Tue, 26 Nov 2019</td> <th>  AIC                </th> <td>-486172.278</td>\n",
       "</tr>\n",
       "<tr>\n",
       "  <th>Time:</th>              <td>17:57:03</td>     <th>  BIC                </th> <td>-486146.395</td>\n",
       "</tr>\n",
       "<tr>\n",
       "  <th>Sample:</th>                <td>2</td>        <th>  HQIC               </th> <td>-486164.097</td>\n",
       "</tr>\n",
       "<tr>\n",
       "  <th></th>                       <td> </td>        <th>                     </th>      <td> </td>     \n",
       "</tr>\n",
       "</table>\n",
       "<table class=\"simpletable\">\n",
       "<tr>\n",
       "       <td></td>         <th>coef</th>     <th>std err</th>      <th>z</th>      <th>P>|z|</th>  <th>[0.025</th>    <th>0.975]</th>  \n",
       "</tr>\n",
       "<tr>\n",
       "  <th>const</th>      <td>-3.712e-09</td> <td> 9.81e-08</td> <td>   -0.038</td> <td> 0.970</td> <td>-1.96e-07</td> <td> 1.89e-07</td>\n",
       "</tr>\n",
       "<tr>\n",
       "  <th>ma.L1.D2.y</th> <td>   -0.9702</td> <td>    0.018</td> <td>  -52.491</td> <td> 0.000</td> <td>   -1.006</td> <td>   -0.934</td>\n",
       "</tr>\n",
       "</table>\n",
       "<table class=\"simpletable\">\n",
       "<caption>Roots</caption>\n",
       "<tr>\n",
       "    <td></td>   <th>            Real</th>  <th>         Imaginary</th> <th>         Modulus</th>  <th>        Frequency</th>\n",
       "</tr>\n",
       "<tr>\n",
       "  <th>MA.1</th> <td>           1.0307</td> <td>          +0.0000j</td> <td>           1.0307</td> <td>           0.0000</td>\n",
       "</tr>\n",
       "</table>"
      ],
      "text/plain": [
       "<class 'statsmodels.iolib.summary.Summary'>\n",
       "\"\"\"\n",
       "                             ARIMA Model Results                              \n",
       "==============================================================================\n",
       "Dep. Variable:                   D2.y   No. Observations:                41264\n",
       "Model:                 ARIMA(0, 2, 1)   Log Likelihood              243089.139\n",
       "Method:                       css-mle   S.D. of innovations              0.001\n",
       "Date:                Tue, 26 Nov 2019   AIC                        -486172.278\n",
       "Time:                        17:57:03   BIC                        -486146.395\n",
       "Sample:                             2   HQIC                       -486164.097\n",
       "                                                                              \n",
       "==============================================================================\n",
       "                 coef    std err          z      P>|z|      [0.025      0.975]\n",
       "------------------------------------------------------------------------------\n",
       "const      -3.712e-09   9.81e-08     -0.038      0.970   -1.96e-07    1.89e-07\n",
       "ma.L1.D2.y    -0.9702      0.018    -52.491      0.000      -1.006      -0.934\n",
       "                                    Roots                                    \n",
       "=============================================================================\n",
       "                  Real          Imaginary           Modulus         Frequency\n",
       "-----------------------------------------------------------------------------\n",
       "MA.1            1.0307           +0.0000j            1.0307            0.0000\n",
       "-----------------------------------------------------------------------------\n",
       "\"\"\""
      ]
     },
     "execution_count": 20,
     "metadata": {},
     "output_type": "execute_result"
    }
   ],
   "source": [
    "arima_obj = ARIMA(price['NASDAQ.CSCO'].tolist(), order=(0,2,1))\n",
    "arima_obj_fit = arima_obj.fit(disp=0)\n",
    "arima_obj_fit.summary()"
   ]
  },
  {
   "cell_type": "code",
   "execution_count": 21,
   "metadata": {},
   "outputs": [
    {
     "name": "stderr",
     "output_type": "stream",
     "text": [
      "/Users/rosmebabyjoseph/opt/anaconda3/lib/python3.7/site-packages/statsmodels/base/model.py:492: HessianInversionWarning: Inverting hessian failed, no bse or cov_params available\n",
      "  'available', HessianInversionWarning)\n",
      "/Users/rosmebabyjoseph/opt/anaconda3/lib/python3.7/site-packages/statsmodels/base/model.py:512: ConvergenceWarning: Maximum Likelihood optimization failed to converge. Check mle_retvals\n",
      "  \"Check mle_retvals\", ConvergenceWarning)\n"
     ]
    },
    {
     "data": {
      "text/html": [
       "<table class=\"simpletable\">\n",
       "<caption>ARIMA Model Results</caption>\n",
       "<tr>\n",
       "  <th>Dep. Variable:</th>       <td>D2.y</td>       <th>  No. Observations:  </th>    <td>41264</td>   \n",
       "</tr>\n",
       "<tr>\n",
       "  <th>Model:</th>          <td>ARIMA(0, 2, 1)</td>  <th>  Log Likelihood     </th> <td>243251.407</td> \n",
       "</tr>\n",
       "<tr>\n",
       "  <th>Method:</th>             <td>css-mle</td>     <th>  S.D. of innovations</th>    <td>0.001</td>   \n",
       "</tr>\n",
       "<tr>\n",
       "  <th>Date:</th>          <td>Tue, 26 Nov 2019</td> <th>  AIC                </th> <td>-486496.815</td>\n",
       "</tr>\n",
       "<tr>\n",
       "  <th>Time:</th>              <td>17:57:12</td>     <th>  BIC                </th> <td>-486470.932</td>\n",
       "</tr>\n",
       "<tr>\n",
       "  <th>Sample:</th>                <td>2</td>        <th>  HQIC               </th> <td>-486488.634</td>\n",
       "</tr>\n",
       "<tr>\n",
       "  <th></th>                       <td> </td>        <th>                     </th>      <td> </td>     \n",
       "</tr>\n",
       "</table>\n",
       "<table class=\"simpletable\">\n",
       "<tr>\n",
       "       <td></td>         <th>coef</th>     <th>std err</th>      <th>z</th>      <th>P>|z|</th>  <th>[0.025</th>    <th>0.975]</th>  \n",
       "</tr>\n",
       "<tr>\n",
       "  <th>const</th>      <td>-3.474e-09</td> <td>      nan</td> <td>      nan</td> <td>   nan</td> <td>      nan</td> <td>      nan</td>\n",
       "</tr>\n",
       "<tr>\n",
       "  <th>ma.L1.D2.y</th> <td>   -0.9992</td> <td>      nan</td> <td>      nan</td> <td>   nan</td> <td>      nan</td> <td>      nan</td>\n",
       "</tr>\n",
       "</table>\n",
       "<table class=\"simpletable\">\n",
       "<caption>Roots</caption>\n",
       "<tr>\n",
       "    <td></td>   <th>            Real</th>  <th>         Imaginary</th> <th>         Modulus</th>  <th>        Frequency</th>\n",
       "</tr>\n",
       "<tr>\n",
       "  <th>MA.1</th> <td>           1.0008</td> <td>          +0.0000j</td> <td>           1.0008</td> <td>           0.0000</td>\n",
       "</tr>\n",
       "</table>"
      ],
      "text/plain": [
       "<class 'statsmodels.iolib.summary.Summary'>\n",
       "\"\"\"\n",
       "                             ARIMA Model Results                              \n",
       "==============================================================================\n",
       "Dep. Variable:                   D2.y   No. Observations:                41264\n",
       "Model:                 ARIMA(0, 2, 1)   Log Likelihood              243251.407\n",
       "Method:                       css-mle   S.D. of innovations              0.001\n",
       "Date:                Tue, 26 Nov 2019   AIC                        -486496.815\n",
       "Time:                        17:57:12   BIC                        -486470.932\n",
       "Sample:                             2   HQIC                       -486488.634\n",
       "                                                                              \n",
       "==============================================================================\n",
       "                 coef    std err          z      P>|z|      [0.025      0.975]\n",
       "------------------------------------------------------------------------------\n",
       "const      -3.474e-09        nan        nan        nan         nan         nan\n",
       "ma.L1.D2.y    -0.9992        nan        nan        nan         nan         nan\n",
       "                                    Roots                                    \n",
       "=============================================================================\n",
       "                  Real          Imaginary           Modulus         Frequency\n",
       "-----------------------------------------------------------------------------\n",
       "MA.1            1.0008           +0.0000j            1.0008            0.0000\n",
       "-----------------------------------------------------------------------------\n",
       "\"\"\""
      ]
     },
     "execution_count": 21,
     "metadata": {},
     "output_type": "execute_result"
    }
   ],
   "source": [
    "arima_obj = ARIMA(price['NASDAQ.EBAY'].tolist(), order=(0,2,1))\n",
    "arima_obj_fit = arima_obj.fit(disp=0)\n",
    "arima_obj_fit.summary()"
   ]
  },
  {
   "cell_type": "code",
   "execution_count": 22,
   "metadata": {},
   "outputs": [],
   "source": [
    "pred=np.append([0,0],arima_obj_fit.fittedvalues.tolist())\n",
    "price['ARIMA']=pred\n",
    "diffval=np.append([0,0], arima_obj_fit.resid+arima_obj_fit.fittedvalues)\n",
    "price['diffval']=diffval"
   ]
  },
  {
   "cell_type": "code",
   "execution_count": 43,
   "metadata": {},
   "outputs": [
    {
     "data": {
      "text/plain": [
       "Text(0,0.5,'Closing')"
      ]
     },
     "execution_count": 43,
     "metadata": {},
     "output_type": "execute_result"
    },
    {
     "data": {
      "image/png": "[encoded data removed]",
      "text/plain": [
       "<Figure size 396x396 with 1 Axes>"
      ]
     },
     "metadata": {
      "needs_background": "light"
     },
     "output_type": "display_data"
    }
   ],
   "source": [
    "f, axarr = plt.subplots(1, sharex=True)\n",
    "f.set_size_inches(5.5, 5.5)\n",
    "price['diffval'].iloc[2:].plot(color='b', linestyle = '-', ax=axarr)\n",
    "price['ARIMA'].iloc[2:].plot(color='r', linestyle = '--', ax=axarr)\n",
    "axarr.set_title('ARIMA(0,2,1)')\n",
    "plt.xlabel('Index')\n",
    "plt.ylabel('Closing')"
   ]
  },
  {
   "cell_type": "code",
   "execution_count": 23,
   "metadata": {},
   "outputs": [
    {
     "data": {
      "text/plain": [
       "(41266, 7)"
      ]
     },
     "execution_count": 23,
     "metadata": {},
     "output_type": "execute_result"
    }
   ],
   "source": [
    "price.shape"
   ]
  },
  {
   "cell_type": "code",
   "execution_count": 24,
   "metadata": {},
   "outputs": [
    {
     "name": "stderr",
     "output_type": "stream",
     "text": [
      "/Users/rosmebabyjoseph/opt/anaconda3/lib/python3.7/site-packages/statsmodels/base/model.py:492: HessianInversionWarning: Inverting hessian failed, no bse or cov_params available\n",
      "  'available', HessianInversionWarning)\n"
     ]
    },
    {
     "data": {
      "text/html": [
       "<table class=\"simpletable\">\n",
       "<caption>ARIMA Model Results</caption>\n",
       "<tr>\n",
       "  <th>Dep. Variable:</th>       <td>D2.y</td>       <th>  No. Observations:  </th>    <td>41264</td>   \n",
       "</tr>\n",
       "<tr>\n",
       "  <th>Model:</th>          <td>ARIMA(0, 2, 1)</td>  <th>  Log Likelihood     </th> <td>246334.121</td> \n",
       "</tr>\n",
       "<tr>\n",
       "  <th>Method:</th>             <td>css-mle</td>     <th>  S.D. of innovations</th>    <td>0.001</td>   \n",
       "</tr>\n",
       "<tr>\n",
       "  <th>Date:</th>          <td>Tue, 26 Nov 2019</td> <th>  AIC                </th> <td>-492662.242</td>\n",
       "</tr>\n",
       "<tr>\n",
       "  <th>Time:</th>              <td>17:57:40</td>     <th>  BIC                </th> <td>-492636.358</td>\n",
       "</tr>\n",
       "<tr>\n",
       "  <th>Sample:</th>                <td>2</td>        <th>  HQIC               </th> <td>-492654.061</td>\n",
       "</tr>\n",
       "<tr>\n",
       "  <th></th>                       <td> </td>        <th>                     </th>      <td> </td>     \n",
       "</tr>\n",
       "</table>\n",
       "<table class=\"simpletable\">\n",
       "<tr>\n",
       "       <td></td>         <th>coef</th>     <th>std err</th>      <th>z</th>      <th>P>|z|</th>  <th>[0.025</th>    <th>0.975]</th>  \n",
       "</tr>\n",
       "<tr>\n",
       "  <th>const</th>      <td>-4.208e-09</td> <td>      nan</td> <td>      nan</td> <td>   nan</td> <td>      nan</td> <td>      nan</td>\n",
       "</tr>\n",
       "<tr>\n",
       "  <th>ma.L1.D2.y</th> <td>   -0.9988</td> <td>      nan</td> <td>      nan</td> <td>   nan</td> <td>      nan</td> <td>      nan</td>\n",
       "</tr>\n",
       "</table>\n",
       "<table class=\"simpletable\">\n",
       "<caption>Roots</caption>\n",
       "<tr>\n",
       "    <td></td>   <th>            Real</th>  <th>         Imaginary</th> <th>         Modulus</th>  <th>        Frequency</th>\n",
       "</tr>\n",
       "<tr>\n",
       "  <th>MA.1</th> <td>           1.0012</td> <td>          +0.0000j</td> <td>           1.0012</td> <td>           0.0000</td>\n",
       "</tr>\n",
       "</table>"
      ],
      "text/plain": [
       "<class 'statsmodels.iolib.summary.Summary'>\n",
       "\"\"\"\n",
       "                             ARIMA Model Results                              \n",
       "==============================================================================\n",
       "Dep. Variable:                   D2.y   No. Observations:                41264\n",
       "Model:                 ARIMA(0, 2, 1)   Log Likelihood              246334.121\n",
       "Method:                       css-mle   S.D. of innovations              0.001\n",
       "Date:                Tue, 26 Nov 2019   AIC                        -492662.242\n",
       "Time:                        17:57:40   BIC                        -492636.358\n",
       "Sample:                             2   HQIC                       -492654.061\n",
       "                                                                              \n",
       "==============================================================================\n",
       "                 coef    std err          z      P>|z|      [0.025      0.975]\n",
       "------------------------------------------------------------------------------\n",
       "const      -4.208e-09        nan        nan        nan         nan         nan\n",
       "ma.L1.D2.y    -0.9988        nan        nan        nan         nan         nan\n",
       "                                    Roots                                    \n",
       "=============================================================================\n",
       "                  Real          Imaginary           Modulus         Frequency\n",
       "-----------------------------------------------------------------------------\n",
       "MA.1            1.0012           +0.0000j            1.0012            0.0000\n",
       "-----------------------------------------------------------------------------\n",
       "\"\"\""
      ]
     },
     "execution_count": 24,
     "metadata": {},
     "output_type": "execute_result"
    }
   ],
   "source": [
    "arima_obj = ARIMA(price['NASDAQ.AAPL'].tolist(), order=(0,2,1))\n",
    "arima_obj_fit = arima_obj.fit(disp=0)\n",
    "arima_obj_fit.summary()"
   ]
  },
  {
   "cell_type": "code",
   "execution_count": 70,
   "metadata": {},
   "outputs": [
    {
     "name": "stdout",
     "output_type": "stream",
     "text": [
      "Predicted=5.099751\n"
     ]
    }
   ],
   "source": [
    "prediction = arima_obj_fit.forecast()[0]\n",
    "print('Predicted=%f' % (prediction))"
   ]
  },
  {
   "cell_type": "code",
   "execution_count": 77,
   "metadata": {},
   "outputs": [
    {
     "name": "stderr",
     "output_type": "stream",
     "text": [
      "/Users/rosmebabyjoseph/opt/anaconda2/lib/python2.7/site-packages/statsmodels/base/model.py:512: ConvergenceWarning: Maximum Likelihood optimization failed to converge. Check mle_retvals\n",
      "  \"Check mle_retvals\", ConvergenceWarning)\n"
     ]
    },
    {
     "name": "stdout",
     "output_type": "stream",
     "text": [
      "Predicted=4.667862\n"
     ]
    },
    {
     "data": {
      "text/html": [
       "<table class=\"simpletable\">\n",
       "<caption>ARIMA Model Results</caption>\n",
       "<tr>\n",
       "  <th>Dep. Variable:</th>       <td>D2.y</td>       <th>  No. Observations:  </th>    <td>41264</td>   \n",
       "</tr>\n",
       "<tr>\n",
       "  <th>Model:</th>          <td>ARIMA(0, 2, 1)</td>  <th>  Log Likelihood     </th> <td>241210.860</td> \n",
       "</tr>\n",
       "<tr>\n",
       "  <th>Method:</th>             <td>css-mle</td>     <th>  S.D. of innovations</th>    <td>0.001</td>   \n",
       "</tr>\n",
       "<tr>\n",
       "  <th>Date:</th>          <td>Sat, 23 Nov 2019</td> <th>  AIC                </th> <td>-482415.720</td>\n",
       "</tr>\n",
       "<tr>\n",
       "  <th>Time:</th>              <td>19:25:20</td>     <th>  BIC                </th> <td>-482389.836</td>\n",
       "</tr>\n",
       "<tr>\n",
       "  <th>Sample:</th>                <td>2</td>        <th>  HQIC               </th> <td>-482407.539</td>\n",
       "</tr>\n",
       "<tr>\n",
       "  <th></th>                       <td> </td>        <th>                     </th>      <td> </td>     \n",
       "</tr>\n",
       "</table>\n",
       "<table class=\"simpletable\">\n",
       "<tr>\n",
       "       <td></td>         <th>coef</th>     <th>std err</th>      <th>z</th>      <th>P>|z|</th>  <th>[0.025</th>    <th>0.975]</th>  \n",
       "</tr>\n",
       "<tr>\n",
       "  <th>const</th>      <td>-3.551e-09</td> <td> 2.11e-08</td> <td>   -0.169</td> <td> 0.866</td> <td>-4.49e-08</td> <td> 3.78e-08</td>\n",
       "</tr>\n",
       "<tr>\n",
       "  <th>ma.L1.D2.y</th> <td>   -0.9940</td> <td>    0.002</td> <td> -438.995</td> <td> 0.000</td> <td>   -0.998</td> <td>   -0.990</td>\n",
       "</tr>\n",
       "</table>\n",
       "<table class=\"simpletable\">\n",
       "<caption>Roots</caption>\n",
       "<tr>\n",
       "    <td></td>   <th>            Real</th>  <th>         Imaginary</th> <th>         Modulus</th>  <th>        Frequency</th>\n",
       "</tr>\n",
       "<tr>\n",
       "  <th>MA.1</th> <td>           1.0060</td> <td>          +0.0000j</td> <td>           1.0060</td> <td>           0.0000</td>\n",
       "</tr>\n",
       "</table>"
      ],
      "text/plain": [
       "<class 'statsmodels.iolib.summary.Summary'>\n",
       "\"\"\"\n",
       "                             ARIMA Model Results                              \n",
       "==============================================================================\n",
       "Dep. Variable:                   D2.y   No. Observations:                41264\n",
       "Model:                 ARIMA(0, 2, 1)   Log Likelihood              241210.860\n",
       "Method:                       css-mle   S.D. of innovations              0.001\n",
       "Date:                Sat, 23 Nov 2019   AIC                        -482415.720\n",
       "Time:                        19:25:20   BIC                        -482389.836\n",
       "Sample:                             2   HQIC                       -482407.539\n",
       "                                                                              \n",
       "==============================================================================\n",
       "                 coef    std err          z      P>|z|      [0.025      0.975]\n",
       "------------------------------------------------------------------------------\n",
       "const      -3.551e-09   2.11e-08     -0.169      0.866   -4.49e-08    3.78e-08\n",
       "ma.L1.D2.y    -0.9940      0.002   -438.995      0.000      -0.998      -0.990\n",
       "                                    Roots                                    \n",
       "=============================================================================\n",
       "                  Real          Imaginary           Modulus         Frequency\n",
       "-----------------------------------------------------------------------------\n",
       "MA.1            1.0060           +0.0000j            1.0060            0.0000\n",
       "-----------------------------------------------------------------------------\n",
       "\"\"\""
      ]
     },
     "execution_count": 77,
     "metadata": {},
     "output_type": "execute_result"
    }
   ],
   "source": [
    "arima_obj = ARIMA(price['NASDAQ.ADP'].tolist(), order=(0,2,1))\n",
    "arima_obj_fit = arima_obj.fit(disp=0)\n",
    "prediction = arima_obj_fit.forecast()[0]\n",
    "print('Predicted=%f' % (prediction))\n",
    "arima_obj_fit.summary()"
   ]
  },
  {
   "cell_type": "code",
   "execution_count": 78,
   "metadata": {},
   "outputs": [
    {
     "name": "stdout",
     "output_type": "stream",
     "text": [
      "Predicted=4.614015\n"
     ]
    },
    {
     "data": {
      "text/html": [
       "<table class=\"simpletable\">\n",
       "<caption>ARIMA Model Results</caption>\n",
       "<tr>\n",
       "  <th>Dep. Variable:</th>       <td>D2.y</td>       <th>  No. Observations:  </th>    <td>41264</td>   \n",
       "</tr>\n",
       "<tr>\n",
       "  <th>Model:</th>          <td>ARIMA(0, 2, 1)</td>  <th>  Log Likelihood     </th> <td>252779.294</td> \n",
       "</tr>\n",
       "<tr>\n",
       "  <th>Method:</th>             <td>css-mle</td>     <th>  S.D. of innovations</th>    <td>0.001</td>   \n",
       "</tr>\n",
       "<tr>\n",
       "  <th>Date:</th>          <td>Sat, 23 Nov 2019</td> <th>  AIC                </th> <td>-505552.589</td>\n",
       "</tr>\n",
       "<tr>\n",
       "  <th>Time:</th>              <td>19:37:09</td>     <th>  BIC                </th> <td>-505526.705</td>\n",
       "</tr>\n",
       "<tr>\n",
       "  <th>Sample:</th>                <td>2</td>        <th>  HQIC               </th> <td>-505544.408</td>\n",
       "</tr>\n",
       "<tr>\n",
       "  <th></th>                       <td> </td>        <th>                     </th>      <td> </td>     \n",
       "</tr>\n",
       "</table>\n",
       "<table class=\"simpletable\">\n",
       "<tr>\n",
       "       <td></td>         <th>coef</th>     <th>std err</th>      <th>z</th>      <th>P>|z|</th>  <th>[0.025</th>    <th>0.975]</th>  \n",
       "</tr>\n",
       "<tr>\n",
       "  <th>const</th>      <td>-5.945e-10</td> <td> 4.73e-08</td> <td>   -0.013</td> <td> 0.990</td> <td>-9.34e-08</td> <td> 9.22e-08</td>\n",
       "</tr>\n",
       "<tr>\n",
       "  <th>ma.L1.D2.y</th> <td>   -0.9818</td> <td>    0.007</td> <td> -140.846</td> <td> 0.000</td> <td>   -0.996</td> <td>   -0.968</td>\n",
       "</tr>\n",
       "</table>\n",
       "<table class=\"simpletable\">\n",
       "<caption>Roots</caption>\n",
       "<tr>\n",
       "    <td></td>   <th>            Real</th>  <th>         Imaginary</th> <th>         Modulus</th>  <th>        Frequency</th>\n",
       "</tr>\n",
       "<tr>\n",
       "  <th>MA.1</th> <td>           1.0185</td> <td>          +0.0000j</td> <td>           1.0185</td> <td>           0.0000</td>\n",
       "</tr>\n",
       "</table>"
      ],
      "text/plain": [
       "<class 'statsmodels.iolib.summary.Summary'>\n",
       "\"\"\"\n",
       "                             ARIMA Model Results                              \n",
       "==============================================================================\n",
       "Dep. Variable:                   D2.y   No. Observations:                41264\n",
       "Model:                 ARIMA(0, 2, 1)   Log Likelihood              252779.294\n",
       "Method:                       css-mle   S.D. of innovations              0.001\n",
       "Date:                Sat, 23 Nov 2019   AIC                        -505552.589\n",
       "Time:                        19:37:09   BIC                        -505526.705\n",
       "Sample:                             2   HQIC                       -505544.408\n",
       "                                                                              \n",
       "==============================================================================\n",
       "                 coef    std err          z      P>|z|      [0.025      0.975]\n",
       "------------------------------------------------------------------------------\n",
       "const      -5.945e-10   4.73e-08     -0.013      0.990   -9.34e-08    9.22e-08\n",
       "ma.L1.D2.y    -0.9818      0.007   -140.846      0.000      -0.996      -0.968\n",
       "                                    Roots                                    \n",
       "=============================================================================\n",
       "                  Real          Imaginary           Modulus         Frequency\n",
       "-----------------------------------------------------------------------------\n",
       "MA.1            1.0185           +0.0000j            1.0185            0.0000\n",
       "-----------------------------------------------------------------------------\n",
       "\"\"\""
      ]
     },
     "execution_count": 78,
     "metadata": {},
     "output_type": "execute_result"
    }
   ],
   "source": [
    "arima_obj = ARIMA(price['NASDAQ.CBOE'].tolist(), order=(0,2,1))\n",
    "arima_obj_fit = arima_obj.fit(disp=0)\n",
    "prediction = arima_obj_fit.forecast()[0]\n",
    "print('Predicted=%f' % (prediction))\n",
    "arima_obj_fit.summary()"
   ]
  },
  {
   "cell_type": "code",
   "execution_count": 79,
   "metadata": {},
   "outputs": [
    {
     "name": "stdout",
     "output_type": "stream",
     "text": [
      "Predicted=3.472718\n"
     ]
    },
    {
     "data": {
      "text/html": [
       "<table class=\"simpletable\">\n",
       "<caption>ARIMA Model Results</caption>\n",
       "<tr>\n",
       "  <th>Dep. Variable:</th>       <td>D2.y</td>       <th>  No. Observations:  </th>    <td>41264</td>   \n",
       "</tr>\n",
       "<tr>\n",
       "  <th>Model:</th>          <td>ARIMA(0, 2, 1)</td>  <th>  Log Likelihood     </th> <td>243089.139</td> \n",
       "</tr>\n",
       "<tr>\n",
       "  <th>Method:</th>             <td>css-mle</td>     <th>  S.D. of innovations</th>    <td>0.001</td>   \n",
       "</tr>\n",
       "<tr>\n",
       "  <th>Date:</th>          <td>Sat, 23 Nov 2019</td> <th>  AIC                </th> <td>-486172.278</td>\n",
       "</tr>\n",
       "<tr>\n",
       "  <th>Time:</th>              <td>19:37:43</td>     <th>  BIC                </th> <td>-486146.395</td>\n",
       "</tr>\n",
       "<tr>\n",
       "  <th>Sample:</th>                <td>2</td>        <th>  HQIC               </th> <td>-486164.097</td>\n",
       "</tr>\n",
       "<tr>\n",
       "  <th></th>                       <td> </td>        <th>                     </th>      <td> </td>     \n",
       "</tr>\n",
       "</table>\n",
       "<table class=\"simpletable\">\n",
       "<tr>\n",
       "       <td></td>         <th>coef</th>     <th>std err</th>      <th>z</th>      <th>P>|z|</th>  <th>[0.025</th>    <th>0.975]</th>  \n",
       "</tr>\n",
       "<tr>\n",
       "  <th>const</th>      <td>-3.712e-09</td> <td> 9.81e-08</td> <td>   -0.038</td> <td> 0.970</td> <td>-1.96e-07</td> <td> 1.89e-07</td>\n",
       "</tr>\n",
       "<tr>\n",
       "  <th>ma.L1.D2.y</th> <td>   -0.9702</td> <td>    0.018</td> <td>  -52.491</td> <td> 0.000</td> <td>   -1.006</td> <td>   -0.934</td>\n",
       "</tr>\n",
       "</table>\n",
       "<table class=\"simpletable\">\n",
       "<caption>Roots</caption>\n",
       "<tr>\n",
       "    <td></td>   <th>            Real</th>  <th>         Imaginary</th> <th>         Modulus</th>  <th>        Frequency</th>\n",
       "</tr>\n",
       "<tr>\n",
       "  <th>MA.1</th> <td>           1.0307</td> <td>          +0.0000j</td> <td>           1.0307</td> <td>           0.0000</td>\n",
       "</tr>\n",
       "</table>"
      ],
      "text/plain": [
       "<class 'statsmodels.iolib.summary.Summary'>\n",
       "\"\"\"\n",
       "                             ARIMA Model Results                              \n",
       "==============================================================================\n",
       "Dep. Variable:                   D2.y   No. Observations:                41264\n",
       "Model:                 ARIMA(0, 2, 1)   Log Likelihood              243089.139\n",
       "Method:                       css-mle   S.D. of innovations              0.001\n",
       "Date:                Sat, 23 Nov 2019   AIC                        -486172.278\n",
       "Time:                        19:37:43   BIC                        -486146.395\n",
       "Sample:                             2   HQIC                       -486164.097\n",
       "                                                                              \n",
       "==============================================================================\n",
       "                 coef    std err          z      P>|z|      [0.025      0.975]\n",
       "------------------------------------------------------------------------------\n",
       "const      -3.712e-09   9.81e-08     -0.038      0.970   -1.96e-07    1.89e-07\n",
       "ma.L1.D2.y    -0.9702      0.018    -52.491      0.000      -1.006      -0.934\n",
       "                                    Roots                                    \n",
       "=============================================================================\n",
       "                  Real          Imaginary           Modulus         Frequency\n",
       "-----------------------------------------------------------------------------\n",
       "MA.1            1.0307           +0.0000j            1.0307            0.0000\n",
       "-----------------------------------------------------------------------------\n",
       "\"\"\""
      ]
     },
     "execution_count": 79,
     "metadata": {},
     "output_type": "execute_result"
    }
   ],
   "source": [
    "arima_obj = ARIMA(price['NASDAQ.CSCO'].tolist(), order=(0,2,1))\n",
    "arima_obj_fit = arima_obj.fit(disp=0)\n",
    "prediction = arima_obj_fit.forecast()[0]\n",
    "print('Predicted=%f' % (prediction))\n",
    "arima_obj_fit.summary()"
   ]
  },
  {
   "cell_type": "code",
   "execution_count": 80,
   "metadata": {},
   "outputs": [
    {
     "name": "stderr",
     "output_type": "stream",
     "text": [
      "/Users/rosmebabyjoseph/opt/anaconda2/lib/python2.7/site-packages/statsmodels/base/model.py:492: HessianInversionWarning: Inverting hessian failed, no bse or cov_params available\n",
      "  'available', HessianInversionWarning)\n",
      "/Users/rosmebabyjoseph/opt/anaconda2/lib/python2.7/site-packages/statsmodels/base/model.py:512: ConvergenceWarning: Maximum Likelihood optimization failed to converge. Check mle_retvals\n",
      "  \"Check mle_retvals\", ConvergenceWarning)\n"
     ]
    },
    {
     "name": "stdout",
     "output_type": "stream",
     "text": [
      "Predicted=3.587136\n"
     ]
    },
    {
     "data": {
      "text/html": [
       "<table class=\"simpletable\">\n",
       "<caption>ARIMA Model Results</caption>\n",
       "<tr>\n",
       "  <th>Dep. Variable:</th>       <td>D2.y</td>       <th>  No. Observations:  </th>    <td>41264</td>   \n",
       "</tr>\n",
       "<tr>\n",
       "  <th>Model:</th>          <td>ARIMA(0, 2, 1)</td>  <th>  Log Likelihood     </th> <td>243251.407</td> \n",
       "</tr>\n",
       "<tr>\n",
       "  <th>Method:</th>             <td>css-mle</td>     <th>  S.D. of innovations</th>    <td>0.001</td>   \n",
       "</tr>\n",
       "<tr>\n",
       "  <th>Date:</th>          <td>Sat, 23 Nov 2019</td> <th>  AIC                </th> <td>-486496.815</td>\n",
       "</tr>\n",
       "<tr>\n",
       "  <th>Time:</th>              <td>19:38:08</td>     <th>  BIC                </th> <td>-486470.932</td>\n",
       "</tr>\n",
       "<tr>\n",
       "  <th>Sample:</th>                <td>2</td>        <th>  HQIC               </th> <td>-486488.634</td>\n",
       "</tr>\n",
       "<tr>\n",
       "  <th></th>                       <td> </td>        <th>                     </th>      <td> </td>     \n",
       "</tr>\n",
       "</table>\n",
       "<table class=\"simpletable\">\n",
       "<tr>\n",
       "       <td></td>         <th>coef</th>     <th>std err</th>      <th>z</th>      <th>P>|z|</th>  <th>[0.025</th>    <th>0.975]</th>  \n",
       "</tr>\n",
       "<tr>\n",
       "  <th>const</th>      <td>-3.474e-09</td> <td>      nan</td> <td>      nan</td> <td>   nan</td> <td>      nan</td> <td>      nan</td>\n",
       "</tr>\n",
       "<tr>\n",
       "  <th>ma.L1.D2.y</th> <td>   -0.9992</td> <td>      nan</td> <td>      nan</td> <td>   nan</td> <td>      nan</td> <td>      nan</td>\n",
       "</tr>\n",
       "</table>\n",
       "<table class=\"simpletable\">\n",
       "<caption>Roots</caption>\n",
       "<tr>\n",
       "    <td></td>   <th>            Real</th>  <th>         Imaginary</th> <th>         Modulus</th>  <th>        Frequency</th>\n",
       "</tr>\n",
       "<tr>\n",
       "  <th>MA.1</th> <td>           1.0008</td> <td>          +0.0000j</td> <td>           1.0008</td> <td>           0.0000</td>\n",
       "</tr>\n",
       "</table>"
      ],
      "text/plain": [
       "<class 'statsmodels.iolib.summary.Summary'>\n",
       "\"\"\"\n",
       "                             ARIMA Model Results                              \n",
       "==============================================================================\n",
       "Dep. Variable:                   D2.y   No. Observations:                41264\n",
       "Model:                 ARIMA(0, 2, 1)   Log Likelihood              243251.407\n",
       "Method:                       css-mle   S.D. of innovations              0.001\n",
       "Date:                Sat, 23 Nov 2019   AIC                        -486496.815\n",
       "Time:                        19:38:08   BIC                        -486470.932\n",
       "Sample:                             2   HQIC                       -486488.634\n",
       "                                                                              \n",
       "==============================================================================\n",
       "                 coef    std err          z      P>|z|      [0.025      0.975]\n",
       "------------------------------------------------------------------------------\n",
       "const      -3.474e-09        nan        nan        nan         nan         nan\n",
       "ma.L1.D2.y    -0.9992        nan        nan        nan         nan         nan\n",
       "                                    Roots                                    \n",
       "=============================================================================\n",
       "                  Real          Imaginary           Modulus         Frequency\n",
       "-----------------------------------------------------------------------------\n",
       "MA.1            1.0008           +0.0000j            1.0008            0.0000\n",
       "-----------------------------------------------------------------------------\n",
       "\"\"\""
      ]
     },
     "execution_count": 80,
     "metadata": {},
     "output_type": "execute_result"
    }
   ],
   "source": [
    "arima_obj = ARIMA(price['NASDAQ.EBAY'].tolist(), order=(0,2,1))\n",
    "arima_obj_fit = arima_obj.fit(disp=0)\n",
    "prediction = arima_obj_fit.forecast()[0]\n",
    "print('Predicted=%f' % (prediction))\n",
    "arima_obj_fit.summary()"
   ]
  },
  {
   "cell_type": "code",
   "execution_count": null,
   "metadata": {},
   "outputs": [],
   "source": []
  }
 ],
 "metadata": {
  "kernelspec": {
   "display_name": "Python 3",
   "language": "python",
   "name": "python3"
  },
  "language_info": {
   "codemirror_mode": {
    "name": "ipython",
    "version": 3
   },
   "file_extension": ".py",
   "mimetype": "text/x-python",
   "name": "python",
   "nbconvert_exporter": "python",
   "pygments_lexer": "ipython3",
   "version": "3.7.4"
  }
 },
 "nbformat": 4,
 "nbformat_minor": 2
}
